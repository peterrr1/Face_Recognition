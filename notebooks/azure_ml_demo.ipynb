{
 "cells": [
  {
   "cell_type": "code",
   "execution_count": null,
   "metadata": {},
   "outputs": [],
   "source": [
    "from azure.identity import DefaultAzureCredential\n",
    "from azure.ai.ml import MLClient, Input, Output\n",
    "from azure.ai.ml.entities import Workspace, AmlCompute, Datastore\n",
    "from azure.core.exceptions import ResourceNotFoundError\n",
    "from azure.ai.ml.entities import Data\n",
    "from azure.ai.ml.constants import AssetTypes\n",
    "import azure.ai.ml._artifacts._artifact_utilities as artifact_utils\n",
    "import pandas as pd\n",
    "import datetime\n",
    "import sys\n",
    "from pathlib import Path\n"
   ]
  },
  {
   "cell_type": "code",
   "execution_count": 66,
   "metadata": {},
   "outputs": [],
   "source": [
    "subscription_id = '31bc5bb0-1143-4d0c-ba02-570ecc764364'\n",
    "resource_group = 'Face_Attribute_Recognition'\n",
    "workspace_name = 'test_ws'\n",
    "cluster_name = 'cpu-cluster'"
   ]
  },
  {
   "cell_type": "code",
   "execution_count": 67,
   "metadata": {},
   "outputs": [
    {
     "name": "stderr",
     "output_type": "stream",
     "text": [
      "Overriding of current TracerProvider is not allowed\n",
      "Overriding of current LoggerProvider is not allowed\n",
      "Overriding of current MeterProvider is not allowed\n",
      "Attempting to instrument while already instrumented\n",
      "Attempting to instrument while already instrumented\n",
      "Attempting to instrument while already instrumented\n"
     ]
    }
   ],
   "source": [
    "ml_client = MLClient(DefaultAzureCredential(), subscription_id, resource_group)"
   ]
  },
  {
   "cell_type": "code",
   "execution_count": null,
   "metadata": {},
   "outputs": [],
   "source": [
    "ws_demo = Workspace(\n",
    "    name = 'test_ws',\n",
    "    location= 'germanywestcentral',\n",
    "    display_name = 'Test workspace',\n",
    "    hbi_workspace = False,\n",
    "    description = 'A simple test workspace',\n",
    "    tags = dict(purpuse='demo')\n",
    ")\n",
    "\n",
    "ws_demo = ml_client.workspaces.begin_create(ws_demo).result()"
   ]
  },
  {
   "cell_type": "code",
   "execution_count": 68,
   "metadata": {},
   "outputs": [
    {
     "name": "stderr",
     "output_type": "stream",
     "text": [
      "Overriding of current TracerProvider is not allowed\n",
      "Overriding of current LoggerProvider is not allowed\n",
      "Overriding of current MeterProvider is not allowed\n",
      "Attempting to instrument while already instrumented\n",
      "Attempting to instrument while already instrumented\n",
      "Attempting to instrument while already instrumented\n"
     ]
    }
   ],
   "source": [
    "ml_client = MLClient(DefaultAzureCredential(), subscription_id, resource_group, workspace_name)\n",
    "ws = ml_client._workspaces.get(name = workspace_name)"
   ]
  },
  {
   "cell_type": "code",
   "execution_count": 61,
   "metadata": {},
   "outputs": [
    {
     "name": "stderr",
     "output_type": "stream",
     "text": [
      "\u001b[32mUploading test_dataset (43.78 MBs): 100%|██████████| 43782772/43782772 [00:15<00:00, 2868184.56it/s]\n",
      "\u001b[39m\n",
      "\n"
     ]
    },
    {
     "name": "stdout",
     "output_type": "stream",
     "text": [
      "Data asset created. Name: test_dataset, version: initial\n"
     ]
    }
   ],
   "source": [
    "local_folder_path = '../data/celeba/test_dataset/'\n",
    "v1 = 'initial'\n",
    "name = 'test_dataset'\n",
    "\n",
    "\n",
    "my_data = Data(\n",
    "    name=name,\n",
    "    version=v1,\n",
    "    description='Celeba csv folder',\n",
    "    path=local_folder_path,\n",
    "    type=AssetTypes.URI_FOLDER,\n",
    ")\n",
    "\n",
    "try:\n",
    "    data_asset = ml_client.data.get(name=name, version=v1)\n",
    "    print(f\"Data asset already exists. Name: {my_data.name}, version: {my_data.version}\")\n",
    "except:\n",
    "    data_asset = ml_client.data.create_or_update(my_data)\n",
    "    print(f\"Data asset created. Name: {my_data.name}, version: {my_data.version}\")"
   ]
  },
  {
   "cell_type": "code",
   "execution_count": 70,
   "metadata": {},
   "outputs": [
    {
     "data": {
      "text/plain": [
       "'azureml://subscriptions/31bc5bb0-1143-4d0c-ba02-570ecc764364/resourcegroups/Face_Attribute_Recognition/workspaces/test_ws/datastores/workspaceblobstore/paths/LocalUpload/1d6e11d9c342192c4d9259914c8f4ee7/celeba/'"
      ]
     },
     "execution_count": 70,
     "metadata": {},
     "output_type": "execute_result"
    }
   ],
   "source": [
    "data_asset = ml_client.data.get(name='celeba', version='initial')\n",
    "data_asset.path"
   ]
  },
  {
   "cell_type": "code",
   "execution_count": 4,
   "metadata": {},
   "outputs": [
    {
     "name": "stdout",
     "output_type": "stream",
     "text": [
      "Compute target named \"cpu-cluster\" already exists!\n"
     ]
    }
   ],
   "source": [
    "try:\n",
    "    cpu_cluster = ml_client.compute.get(cluster_name)\n",
    "    print(f'Compute target named \"{cluster_name}\" already exists!')\n",
    "\n",
    "except ResourceNotFoundError:\n",
    "    print('Creating a new cpu compute target...')\n",
    "    cpu_cluster = AmlCompute(\n",
    "        name = cluster_name,\n",
    "        size = 'STANDARD_D2_V3',\n",
    "        min_instances = 0,\n",
    "        max_instances = 1,\n",
    "        idle_time_before_scale_down = 180,\n",
    "        tier = 'Dedicated'\n",
    "    )\n",
    "    print(\n",
    "        f\"AMLCompute with name {cpu_cluster.name} will be created, with compute size {cpu_cluster.size}\"\n",
    "    )\n",
    "    ml_client.compute.begin_create_or_update(cpu_cluster)\n",
    "\n",
    "\n"
   ]
  },
  {
   "cell_type": "code",
   "execution_count": 6,
   "metadata": {},
   "outputs": [
    {
     "data": {
      "text/plain": [
       "<azure.core.polling._poller.LROPoller at 0x12461d5e0>"
      ]
     },
     "execution_count": 6,
     "metadata": {},
     "output_type": "execute_result"
    }
   ],
   "source": [
    "ml_client.compute.begin_delete(cluster_name)"
   ]
  }
 ],
 "metadata": {
  "kernelspec": {
   "display_name": "azureml",
   "language": "python",
   "name": "python3"
  },
  "language_info": {
   "codemirror_mode": {
    "name": "ipython",
    "version": 3
   },
   "file_extension": ".py",
   "mimetype": "text/x-python",
   "name": "python",
   "nbconvert_exporter": "python",
   "pygments_lexer": "ipython3",
   "version": "3.12.6"
  }
 },
 "nbformat": 4,
 "nbformat_minor": 2
}
