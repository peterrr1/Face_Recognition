{
 "cells": [
  {
   "cell_type": "code",
   "execution_count": null,
   "metadata": {},
   "outputs": [],
   "source": [
    "from azure.identity import DefaultAzureCredential\n",
    "from azure.ai.ml import MLClient, Input\n",
    "from azure.ai.ml.entities import Workspace, AmlCompute, Datastore\n",
    "from azure.core.exceptions import ResourceNotFoundError\n",
    "from azure.ai.ml.entities import Data\n",
    "from azure.ai.ml.constants import AssetTypes\n",
    "import azure.ai.ml._artifacts._artifact_utilities as artifact_utils\n",
    "from azure.ai.ml.dsl import pipeline\n",
    "from azure.ai.ml import load_component\n",
    "import pandas as pd\n",
    "import datetime\n",
    "import os\n",
    "from pathlib import Path\n",
    "from ultralytics import YOLO"
   ]
  },
  {
   "cell_type": "code",
   "execution_count": null,
   "metadata": {},
   "outputs": [],
   "source": [
    "subscription_id = '31bc5bb0-1143-4d0c-ba02-570ecc764364'\n",
    "resource_group = 'Face_Attribute_Recognition'\n",
    "workspace_name = 'test_ws'\n",
    "cluster_name = 'cpu-cluster'"
   ]
  },
  {
   "cell_type": "code",
   "execution_count": null,
   "metadata": {},
   "outputs": [],
   "source": [
    "ml_client = MLClient(DefaultAzureCredential(), subscription_id, resource_group, workspace_name)\n",
    "ws = ml_client._workspaces.get(name = workspace_name)"
   ]
  },
  {
   "cell_type": "code",
   "execution_count": null,
   "metadata": {},
   "outputs": [],
   "source": [
    "try:\n",
    "    cpu_cluster = ml_client.compute.get(cluster_name)\n",
    "    print(f'Compute target named \"{cluster_name}\" already exists!')\n",
    "\n",
    "except ResourceNotFoundError:\n",
    "    print('Creating a new cpu compute target...')\n",
    "    \n",
    "    cpu_cluster = AmlCompute(\n",
    "        name = cluster_name,\n",
    "        size = 'STANDARD_D2_V3',\n",
    "        min_instances = 0,\n",
    "        max_instances = 1,\n",
    "        idle_time_before_scale_down = 180,\n",
    "        tier = 'Dedicated'\n",
    "    )\n",
    "    print(\n",
    "        f\"AMLCompute with name {cpu_cluster.name} will be created, with compute size {cpu_cluster.size}\"\n",
    "    )\n",
    "    ml_client.compute.begin_create_or_update(cpu_cluster)\n",
    "    print('Compute target created successfully!')"
   ]
  },
  {
   "cell_type": "code",
   "execution_count": null,
   "metadata": {},
   "outputs": [],
   "source": [
    "envs = ml_client.environments.list()\n",
    "for env in envs:\n",
    "    print(env.name)"
   ]
  },
  {
   "cell_type": "code",
   "execution_count": null,
   "metadata": {},
   "outputs": [],
   "source": [
    "parent_dir ='../src/python/pipeline/config'\n",
    "prepare_dataset = load_component(source=os.path.join(parent_dir, 'prepare-dataset.yml'))\n",
    "os.path.isfile(os.path.join(parent_dir, 'prepare-dataset.yml'))"
   ]
  },
  {
   "cell_type": "code",
   "execution_count": null,
   "metadata": {},
   "outputs": [],
   "source": [
    "@pipeline(name='demo_train_pipeline_with_mlflow')\n",
    "def build_pipeline(raw_data):\n",
    "    step_prepare_dataset = prepare_dataset(input_data=raw_data)\n",
    "    \n",
    "    return {\n",
    "        \"output_data\": step_prepare_dataset.outputs.output_data\n",
    "        }"
   ]
  },
  {
   "cell_type": "code",
   "execution_count": null,
   "metadata": {},
   "outputs": [],
   "source": [
    "def prepare_pipeline_job(cluster_name):\n",
    "    data_asset = ml_client.data.get(name='celeba', version='initial')\n",
    "    raw_data = Input(type='uri_folder', path=data_asset.path)\n",
    "\n",
    "    pipeline_job = build_pipeline(raw_data)\n",
    "    \n",
    "    # set pipeline level datastore\n",
    "    pipeline_job.settings.default_compute=cluster_name\n",
    "    pipeline_job.settings.default_datastore=\"workspaceblobstore\"\n",
    "    pipeline_job.settings.force_rerun=False\n",
    "    pipeline_job.display_name=\"demo_train_pipeline_with_mlflow_v2\"\n",
    "    \n",
    "    return pipeline_job"
   ]
  },
  {
   "cell_type": "code",
   "execution_count": null,
   "metadata": {},
   "outputs": [],
   "source": [
    "prepped_job = prepare_pipeline_job(cluster_name)\n",
    "ml_client.jobs.create_or_update(prepped_job)"
   ]
  }
 ],
 "metadata": {
  "kernelspec": {
   "display_name": "azureml",
   "language": "python",
   "name": "python3"
  },
  "language_info": {
   "codemirror_mode": {
    "name": "ipython",
    "version": 3
   },
   "file_extension": ".py",
   "mimetype": "text/x-python",
   "name": "python",
   "nbconvert_exporter": "python",
   "pygments_lexer": "ipython3",
   "version": "3.12.6"
  }
 },
 "nbformat": 4,
 "nbformat_minor": 2
}
