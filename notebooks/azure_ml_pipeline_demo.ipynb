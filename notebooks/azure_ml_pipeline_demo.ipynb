{
 "cells": [
  {
   "cell_type": "code",
   "execution_count": 9,
   "metadata": {},
   "outputs": [],
   "source": [
    "from azure.identity import DefaultAzureCredential\n",
    "from azure.ai.ml import MLClient, Input\n",
    "from azure.ai.ml.entities import Workspace, AmlCompute, Datastore\n",
    "from azure.core.exceptions import ResourceNotFoundError\n",
    "from azure.ai.ml.entities import Data\n",
    "from azure.ai.ml.constants import AssetTypes\n",
    "import azure.ai.ml._artifacts._artifact_utilities as artifact_utils\n",
    "from azure.ai.ml.dsl import pipeline\n",
    "from azure.ai.ml import load_component\n",
    "import pandas as pd\n",
    "import datetime\n",
    "import os\n",
    "from pathlib import Path\n",
    "from ultralytics import YOLO"
   ]
  },
  {
   "cell_type": "code",
   "execution_count": 2,
   "metadata": {},
   "outputs": [],
   "source": [
    "subscription_id = '31bc5bb0-1143-4d0c-ba02-570ecc764364'\n",
    "resource_group = 'Face_Attribute_Recognition'\n",
    "workspace_name = 'test_ws'\n",
    "cluster_name = 'cpu-cluster'"
   ]
  },
  {
   "cell_type": "code",
   "execution_count": 3,
   "metadata": {},
   "outputs": [],
   "source": [
    "ml_client = MLClient(DefaultAzureCredential(), subscription_id, resource_group, workspace_name)\n",
    "ws = ml_client._workspaces.get(name = workspace_name)"
   ]
  },
  {
   "cell_type": "code",
   "execution_count": 4,
   "metadata": {},
   "outputs": [
    {
     "name": "stdout",
     "output_type": "stream",
     "text": [
      "Compute target named \"cpu-cluster\" already exists!\n"
     ]
    }
   ],
   "source": [
    "try:\n",
    "    cpu_cluster = ml_client.compute.get(cluster_name)\n",
    "    print(f'Compute target named \"{cluster_name}\" already exists!')\n",
    "\n",
    "except ResourceNotFoundError:\n",
    "    print('Creating a new cpu compute target...')\n",
    "    \n",
    "    cpu_cluster = AmlCompute(\n",
    "        name = cluster_name,\n",
    "        size = 'STANDARD_D2_V3',\n",
    "        min_instances = 0,\n",
    "        max_instances = 1,\n",
    "        idle_time_before_scale_down = 180,\n",
    "        tier = 'Dedicated'\n",
    "    )\n",
    "    print(\n",
    "        f\"AMLCompute with name {cpu_cluster.name} will be created, with compute size {cpu_cluster.size}\"\n",
    "    )\n",
    "    ml_client.compute.begin_create_or_update(cpu_cluster)\n",
    "    print('Compute target created successfully!')"
   ]
  },
  {
   "cell_type": "code",
   "execution_count": 5,
   "metadata": {},
   "outputs": [
    {
     "data": {
      "text/plain": [
       "True"
      ]
     },
     "execution_count": 5,
     "metadata": {},
     "output_type": "execute_result"
    }
   ],
   "source": [
    "parent_dir ='../src/python/pipeline/components'\n",
    "prepare_dataset = load_component(source=os.path.join(parent_dir, 'prepare_dataset/prepare-dataset.yml'))\n",
    "os.path.isfile(os.path.join(parent_dir, 'prepare_dataset/prepare-dataset.yml'))"
   ]
  },
  {
   "cell_type": "code",
   "execution_count": 6,
   "metadata": {},
   "outputs": [],
   "source": [
    "@pipeline(name='demo_train_pipeline_with_mlflow')\n",
    "def build_pipeline(raw_data):\n",
    "    step_prepare_dataset = prepare_dataset(input_data=raw_data)\n",
    "    \n",
    "    return {\n",
    "        \"output_data\": step_prepare_dataset.outputs.output_data\n",
    "        }"
   ]
  },
  {
   "cell_type": "code",
   "execution_count": 7,
   "metadata": {},
   "outputs": [],
   "source": [
    "def prepare_pipeline_job(cluster_name):\n",
    "    data_asset = ml_client.data.get(name='celeba', version='initial')\n",
    "    raw_data = Input(type='uri_folder', path=data_asset.path)\n",
    "\n",
    "    pipeline_job = build_pipeline(raw_data)\n",
    "    \n",
    "    # set pipeline level datastore\n",
    "    pipeline_job.settings.default_compute=cluster_name\n",
    "    pipeline_job.settings.default_datastore=\"workspaceblobstore\"\n",
    "    pipeline_job.settings.force_rerun=False\n",
    "    pipeline_job.display_name=\"demo_train_pipeline_with_mlflow_v2\"\n",
    "    \n",
    "    return pipeline_job"
   ]
  },
  {
   "cell_type": "code",
   "execution_count": 8,
   "metadata": {},
   "outputs": [
    {
     "name": "stderr",
     "output_type": "stream",
     "text": [
      "Class AutoDeleteSettingSchema: This is an experimental class, and may change at any time. Please see https://aka.ms/azuremlexperimental for more information.\n",
      "Class AutoDeleteConditionSchema: This is an experimental class, and may change at any time. Please see https://aka.ms/azuremlexperimental for more information.\n",
      "Class BaseAutoDeleteSettingSchema: This is an experimental class, and may change at any time. Please see https://aka.ms/azuremlexperimental for more information.\n",
      "Class IntellectualPropertySchema: This is an experimental class, and may change at any time. Please see https://aka.ms/azuremlexperimental for more information.\n",
      "Class ProtectionLevelSchema: This is an experimental class, and may change at any time. Please see https://aka.ms/azuremlexperimental for more information.\n",
      "Class BaseIntellectualPropertySchema: This is an experimental class, and may change at any time. Please see https://aka.ms/azuremlexperimental for more information.\n",
      "\u001b[32mUploading prepare_dataset (5.47 MBs): 100%|██████████| 5474204/5474204 [00:02<00:00, 2262048.31it/s]\n",
      "\u001b[39m\n",
      "\n",
      "pathOnCompute is not a known attribute of class <class 'azure.ai.ml._restclient.v2023_04_01_preview.models._models_py3.UriFolderJobOutput'> and will be ignored\n"
     ]
    },
    {
     "data": {
      "text/html": [
       "<table style=\"width:100%\"><tr><th>Experiment</th><th>Name</th><th>Type</th><th>Status</th><th>Details Page</th></tr><tr><td>notebooks</td><td>sweet_oyster_qnls6kftv9</td><td>pipeline</td><td>NotStarted</td><td><a href=\"https://ml.azure.com/runs/sweet_oyster_qnls6kftv9?wsid=/subscriptions/31bc5bb0-1143-4d0c-ba02-570ecc764364/resourcegroups/Face_Attribute_Recognition/workspaces/test_ws&amp;tid=6a3548ab-7570-4271-91a8-58da00697029\" target=\"_blank\" rel=\"noopener\">Link to Azure Machine Learning studio</a></td></tr></table>"
      ],
      "text/plain": [
       "PipelineJob({'inputs': {'raw_data': <azure.ai.ml.entities._job.pipeline._io.base.PipelineInput object at 0x1487a3770>}, 'outputs': {'output_data': <azure.ai.ml.entities._job.pipeline._io.base.PipelineOutput object at 0x1486b7260>}, 'jobs': {}, 'component': PipelineComponent({'latest_version': None, 'intellectual_property': None, 'auto_increment_version': False, 'source': 'REMOTE.WORKSPACE.JOB', 'is_anonymous': True, 'auto_delete_setting': None, 'name': 'azureml_anonymous', 'description': None, 'tags': {}, 'properties': {}, 'print_as_yaml': False, 'id': None, 'Resource__source_path': None, 'base_path': '/Users/peterbrezovcsik/Documents/PythonProjects/Face_Recognition/notebooks', 'creation_context': None, 'serialize': <msrest.serialization.Serializer object at 0x1487a3200>, 'version': '1', 'schema': None, 'type': 'pipeline', 'display_name': 'demo_train_pipeline_with_mlflow_v2', 'is_deterministic': None, 'inputs': {'raw_data': {}}, 'outputs': {'output_data': {}}, 'yaml_str': None, 'other_parameter': {}, 'jobs': {'step_prepare_dataset': Command({'parameters': {}, 'init': False, 'name': 'step_prepare_dataset', 'type': 'command', 'status': None, 'log_files': None, 'description': None, 'tags': {}, 'properties': {}, 'print_as_yaml': False, 'id': None, 'Resource__source_path': '', 'base_path': '/Users/peterbrezovcsik/Documents/PythonProjects/Face_Recognition/notebooks', 'creation_context': None, 'serialize': <msrest.serialization.Serializer object at 0x1487a3020>, 'allowed_keys': {}, 'key_restriction': False, 'logger': <Logger attr_dict (WARNING)>, 'display_name': None, 'experiment_name': None, 'compute': None, 'services': None, 'comment': None, 'job_inputs': {'input_data': '${{parent.inputs.raw_data}}'}, 'job_outputs': {'output_data': '${{parent.outputs.output_data}}'}, 'inputs': {'input_data': <azure.ai.ml.entities._job.pipeline._io.base.NodeInput object at 0x1487194f0>}, 'outputs': {'output_data': <azure.ai.ml.entities._job.pipeline._io.base.NodeOutput object at 0x1487a3140>}, 'component': 'azureml_anonymous:68454ff5-b92e-428a-addc-ea3e9ca249dd', 'referenced_control_flow_node_instance_id': None, 'kwargs': {'services': None}, 'instance_id': 'b0111687-0640-4bad-9ba8-489d2f0784b1', 'source': 'YAML.COMPONENT', 'validate_required_input_not_provided': True, 'limits': None, 'identity': None, 'distribution': None, 'environment_variables': {}, 'environment': None, 'resources': None, 'queue_settings': None, 'parent_job_name': None, 'swept': False})}, 'job_types': {'command': 1}, 'job_sources': {'YAML.COMPONENT': 1}, 'source_job_id': None}), 'type': 'pipeline', 'status': 'NotStarted', 'log_files': None, 'name': 'sweet_oyster_qnls6kftv9', 'description': None, 'tags': {}, 'properties': {'mlflow.source.git.repoURL': 'https://github.com/peterrr1/Face_Recognition.git', 'mlflow.source.git.branch': 'dev', 'mlflow.source.git.commit': '9bbc58903640251950164eff452316ec66f1cac0', 'azureml.git.dirty': 'True'}, 'print_as_yaml': False, 'id': '/subscriptions/31bc5bb0-1143-4d0c-ba02-570ecc764364/resourceGroups/Face_Attribute_Recognition/providers/Microsoft.MachineLearningServices/workspaces/test_ws/jobs/sweet_oyster_qnls6kftv9', 'Resource__source_path': '', 'base_path': '/Users/peterbrezovcsik/Documents/PythonProjects/Face_Recognition/notebooks', 'creation_context': <azure.ai.ml.entities._system_data.SystemData object at 0x148414fb0>, 'serialize': <msrest.serialization.Serializer object at 0x1487189b0>, 'display_name': 'demo_train_pipeline_with_mlflow_v2', 'experiment_name': 'notebooks', 'compute': None, 'services': {'Tracking': {'endpoint': 'azureml://germanywestcentral.api.azureml.ms/mlflow/v1.0/subscriptions/31bc5bb0-1143-4d0c-ba02-570ecc764364/resourceGroups/Face_Attribute_Recognition/providers/Microsoft.MachineLearningServices/workspaces/test_ws?', 'type': 'Tracking'}, 'Studio': {'endpoint': 'https://ml.azure.com/runs/sweet_oyster_qnls6kftv9?wsid=/subscriptions/31bc5bb0-1143-4d0c-ba02-570ecc764364/resourcegroups/Face_Attribute_Recognition/workspaces/test_ws&tid=6a3548ab-7570-4271-91a8-58da00697029', 'type': 'Studio'}}, 'settings': {}, 'identity': None, 'default_code': None, 'default_environment': None})"
      ]
     },
     "execution_count": 8,
     "metadata": {},
     "output_type": "execute_result"
    }
   ],
   "source": [
    "prepped_job = prepare_pipeline_job(cluster_name)\n",
    "ml_client.jobs.create_or_update(prepped_job)"
   ]
  }
 ],
 "metadata": {
  "kernelspec": {
   "display_name": "azureml",
   "language": "python",
   "name": "python3"
  },
  "language_info": {
   "codemirror_mode": {
    "name": "ipython",
    "version": 3
   },
   "file_extension": ".py",
   "mimetype": "text/x-python",
   "name": "python",
   "nbconvert_exporter": "python",
   "pygments_lexer": "ipython3",
   "version": "3.12.6"
  }
 },
 "nbformat": 4,
 "nbformat_minor": 2
}
